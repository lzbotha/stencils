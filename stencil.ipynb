{
 "cells": [
  {
   "cell_type": "code",
   "execution_count": null,
   "metadata": {},
   "outputs": [],
   "source": [
    "import cv2\n",
    "import numpy as np\n",
    "import os\n",
    "from sklearn.cluster import KMeans\n",
    "from scipy.signal import medfilt"
   ]
  },
  {
   "cell_type": "code",
   "execution_count": null,
   "metadata": {},
   "outputs": [],
   "source": [
    "input_dir = './images'\n",
    "filename = 'mercy.png'\n",
    "output_folder = './stencils'"
   ]
  },
  {
   "cell_type": "code",
   "execution_count": null,
   "metadata": {},
   "outputs": [],
   "source": [
    "def make_stencil(image, num_colours):\n",
    "    # Convert the image to greyscale\n",
    "    gray_image = cv2.cvtColor(image, cv2.COLOR_BGR2GRAY)\n",
    "    \n",
    "    # Flatten the image into shape (-1, 1)\n",
    "    flattened_image = np.reshape(gray_image, newshape=(-1, 1))\n",
    "    \n",
    "    # Cluster the image into num_colours distinct colours\n",
    "    kmeans = KMeans(n_clusters=num_colours, random_state=0).fit(flattened_image)\n",
    "    kmeans.cluster_centers_\n",
    "    \n",
    "    # Recolour the image using the most different shades possible\n",
    "    vfunc = np.vectorize(lambda index: int(kmeans.cluster_centers_[index]))\n",
    "    \n",
    "    # Map the recolouring function onto the image\n",
    "    _image = vfunc(np.reshape(kmeans.labels_, newshape=gray_image.shape))\n",
    "    \n",
    "    return _image"
   ]
  },
  {
   "cell_type": "code",
   "execution_count": null,
   "metadata": {},
   "outputs": [],
   "source": [
    "def linear_interp_colour_func(colour_1, colour_2):\n",
    "    return lambda shade: colour_1 + ((colour_2 - colour_1) / 255.0) * shade\n",
    "\n",
    "\n",
    "def recolour_image(image, colour_func):\n",
    "    _image = np.zeros((image.shape[0], image.shape[1], 3), dtype=int)\n",
    "    for row in range(image.shape[0]):\n",
    "        for col in range(image.shape[1]):\n",
    "            _image[row][col] = colour_func(image[row][col])\n",
    "    return _image.astype(np.uint8)"
   ]
  },
  {
   "cell_type": "code",
   "execution_count": null,
   "metadata": {},
   "outputs": [],
   "source": [
    "# Read in the image in grayscale\n",
    "image = cv2.imread(os.path.join(input_dir, filename))\n",
    "\n",
    "name, extension = filename.split('.')\n",
    "\n",
    "for num_colours in range(2, 10):\n",
    "    # Make it into a stencil\n",
    "    stencil = make_stencil(image, num_colours)\n",
    "\n",
    "    # stencil = medfilt(stencil, 3)\n",
    "    stencil = stencil.astype(np.uint8)\n",
    "\n",
    "    if not os.path.exists(os.path.join(output_folder, name)):\n",
    "        os.makedirs(os.path.join(output_folder, name))\n",
    "    \n",
    "    colour_func = linear_interp_colour_func(np.asarray([0, 255, 0]), np.asarray([0, 0, 0]))\n",
    "    c_stencil = recolour_image(stencil, colour_func)\n",
    "    \n",
    "    # Save the final image with the colour function applied\n",
    "    cv2.imwrite(\n",
    "        os.path.join(output_folder, name, name + '_colour_' + str(num_colours)  + '.' + extension),\n",
    "        c_stencil\n",
    "    )\n",
    "    \n",
    "    # Save the final image\n",
    "    cv2.imwrite(\n",
    "        os.path.join(output_folder, name, name + '_' + str(num_colours) + '.' + extension), \n",
    "        stencil\n",
    "    )\n"
   ]
  },
  {
   "cell_type": "code",
   "execution_count": null,
   "metadata": {},
   "outputs": [],
   "source": [
    "\n"
   ]
  }
 ],
 "metadata": {},
 "nbformat": 4,
 "nbformat_minor": 0
}
