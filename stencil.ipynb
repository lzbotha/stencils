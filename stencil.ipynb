{
 "cells": [
  {
   "cell_type": "code",
   "execution_count": null,
   "metadata": {},
   "outputs": [],
   "source": [
    "import cv2\n",
    "import numpy as np\n",
    "from sklearn.cluster import KMeans\n",
    "from scipy.signal import medfilt"
   ]
  },
  {
   "cell_type": "code",
   "execution_count": null,
   "metadata": {},
   "outputs": [],
   "source": [
    "input_filepath = './images/joker-mask.jpg'\n",
    "output_filepath = './stencils/joker-mask.jpg'\n",
    "num_colours = 4"
   ]
  },
  {
   "cell_type": "code",
   "execution_count": null,
   "metadata": {},
   "outputs": [],
   "source": [
    "def make_stencil(image, num_colours):\n",
    "    # Convert the image to greyscale\n",
    "    gray_image = cv2.cvtColor(image, cv2.COLOR_BGR2GRAY)\n",
    "    \n",
    "    # Flatten the image into shape (-1, 1)\n",
    "    flattened_image = np.reshape(gray_image, newshape=(-1, 1))\n",
    "    \n",
    "    # Cluster the image into num_colours distinct colours\n",
    "    kmeans = KMeans(n_clusters=num_colours, random_state=0).fit_predict(flattened_image)\n",
    "    \n",
    "    # Recolour the image using the most different shades possible\n",
    "    vfunc = np.vectorize(lambda val: val * (255 / (num_colours - 1)))\n",
    "    \n",
    "    # Map the recolouring function onto the image\n",
    "    _image = vfunc(np.reshape(kmeans, newshape=gray_image.shape))\n",
    "    \n",
    "    return _image"
   ]
  },
  {
   "cell_type": "code",
   "execution_count": null,
   "metadata": {},
   "outputs": [],
   "source": [
    "# Read in the image in grayscale\n",
    "image = cv2.imread(input_filepath)\n",
    "\n",
    "\n",
    "# Make it into a stencil\n",
    "stencil = make_stencil(image, num_colours)\n",
    "\n",
    "\n",
    "# stencil = medfilt(stencil, 3)\n",
    "stencil.astype(np.uint8)\n",
    "\n",
    "# Save the final image\n",
    "cv2.imwrite(output_filepath, stencil)\n"
   ]
  },
  {
   "cell_type": "code",
   "execution_count": null,
   "metadata": {},
   "outputs": [],
   "source": []
  }
 ],
 "metadata": {},
 "nbformat": 4,
 "nbformat_minor": 0
}
