{
 "cells": [
  {
   "cell_type": "code",
   "execution_count": null,
   "metadata": {},
   "outputs": [],
   "source": [
    "import cv2\n",
    "import numpy as np\n",
    "import os\n",
    "\n",
    "import colour_lib\n",
    "import stencil_lib"
   ]
  },
  {
   "cell_type": "code",
   "execution_count": null,
   "metadata": {},
   "outputs": [],
   "source": [
    "input_dir = './images'\n",
    "filename = 'dawg.jpg'\n",
    "output_folder = './stencils'"
   ]
  },
  {
   "cell_type": "code",
   "execution_count": null,
   "metadata": {},
   "outputs": [],
   "source": [
    "# Read in the image in grayscale\n",
    "image = cv2.imread(os.path.join(input_dir, filename))\n",
    "\n",
    "name, extension = filename.split('.')\n",
    "stencil_factory = stencil_lib.StencilBuilder(image)\n",
    "\n",
    "if not os.path.exists(os.path.join(output_folder, name)):\n",
    "        os.makedirs(os.path.join(output_folder, name))\n",
    "\n",
    "for num_colours in range(2, 10):\n",
    "    # Make it into a stencil\n",
    "    stencil = stencil_factory.set_num_colours(num_colours) \\\n",
    "        .make_stencil() \\\n",
    "        .get_stencil()\n",
    "        \n",
    "    colour_func_factory = colour_lib.ColourFuncBuilder()\n",
    "    \n",
    "    # colour_func = colour_func_factory.set_interval(np.asarray([0, 0, 0]), np.asarray([255, 255, 255])) \\\n",
    "    #     .set_interval(np.asarray([100, 0, 0]), np.asarray([0, 0, 150]), 100, 150) \\\n",
    "    #     .set_interval(np.asarray([0, 150, 0]), np.asarray([200, 0, 0]), 150, 200) \\\n",
    "    #     .build()\n",
    "    \n",
    "    colour_func = colour_func_factory.set_interval(np.asarray([0, 0, 0]), np.asarray([0, 0, 255])) \\\n",
    "        .build()\n",
    "    \n",
    "    c_stencil = colour_lib.recolour_image(stencil, colour_func)\n",
    "    \n",
    "    # Save the final image with the colour function applied\n",
    "    cv2.imwrite(\n",
    "        os.path.join(output_folder, name, name + '_colour_' + str(num_colours)  + '.' + extension),\n",
    "        c_stencil\n",
    "    )\n",
    "\n",
    "    # Save the final image\n",
    "    cv2.imwrite(\n",
    "        os.path.join(output_folder, name, name + '_' + str(num_colours) + '.' + extension), \n",
    "        stencil\n",
    "    )\n",
    "    \n",
    "    cv2.imwrite(\n",
    "        os.path.join(output_folder, name, name + '_colours.' + extension), \n",
    "        colour_lib.make_colour_visualizer(colour_func, width_scale=4)\n",
    "    )\n"
   ]
  },
  {
   "cell_type": "code",
   "execution_count": null,
   "metadata": {},
   "outputs": [],
   "source": [
    "\n"
   ]
  }
 ],
 "metadata": {},
 "nbformat": 4,
 "nbformat_minor": 0
}
